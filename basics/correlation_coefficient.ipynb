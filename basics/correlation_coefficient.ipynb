{
 "cells": [
  {
   "cell_type": "markdown",
   "id": "ee52c839-1a02-4eca-999d-176d4f93b682",
   "metadata": {},
   "source": [
    "## Correlation coefficient（相関係数）"
   ]
  },
  {
   "cell_type": "code",
   "execution_count": 14,
   "id": "a84da225-3b74-4cad-b96b-ee55b8c2e3bb",
   "metadata": {},
   "outputs": [],
   "source": [
    "import numpy as np\n",
    "import pandas as pd\n",
    "import seaborn as sns"
   ]
  },
  {
   "cell_type": "code",
   "execution_count": 15,
   "id": "2c921f38-eb7d-41ca-92c1-49204c11ffbd",
   "metadata": {},
   "outputs": [],
   "source": [
    "x_items = np.array(\n",
    "    [14,23,75,93,92,48,28,74]\n",
    ")\n",
    "y_items = np.array(\n",
    "    [23,31,34,68,79,58,36,41]\n",
    ")"
   ]
  },
  {
   "cell_type": "code",
   "execution_count": 16,
   "id": "bcbcca23-668c-47f5-80d1-857331793378",
   "metadata": {},
   "outputs": [
    {
     "data": {
      "text/plain": [
       "array([[1.        , 0.75751153],\n",
       "       [0.75751153, 1.        ]])"
      ]
     },
     "execution_count": 16,
     "metadata": {},
     "output_type": "execute_result"
    }
   ],
   "source": [
    "# Calculate correlation coefficient\n",
    "\n",
    "# Use numpy\n",
    "r = np.corrcoef(x_items, y_items)\n",
    "r\n",
    "\n",
    "# array([[Unbiased variance of x and x = 1,  Unbiased covariance of y and x],\n",
    "#       [ Unbiased covariance of x and y,  Unbiased variance of y and y = 1]])"
   ]
  },
  {
   "cell_type": "code",
   "execution_count": 17,
   "id": "587fbd19-4a30-49c1-9202-bbb073bf353a",
   "metadata": {},
   "outputs": [
    {
     "data": {
      "text/html": [
       "<div>\n",
       "<style scoped>\n",
       "    .dataframe tbody tr th:only-of-type {\n",
       "        vertical-align: middle;\n",
       "    }\n",
       "\n",
       "    .dataframe tbody tr th {\n",
       "        vertical-align: top;\n",
       "    }\n",
       "\n",
       "    .dataframe thead th {\n",
       "        text-align: right;\n",
       "    }\n",
       "</style>\n",
       "<table border=\"1\" class=\"dataframe\">\n",
       "  <thead>\n",
       "    <tr style=\"text-align: right;\">\n",
       "      <th></th>\n",
       "      <th>x</th>\n",
       "      <th>y</th>\n",
       "    </tr>\n",
       "  </thead>\n",
       "  <tbody>\n",
       "    <tr>\n",
       "      <th>x</th>\n",
       "      <td>1.000000</td>\n",
       "      <td>0.757512</td>\n",
       "    </tr>\n",
       "    <tr>\n",
       "      <th>y</th>\n",
       "      <td>0.757512</td>\n",
       "      <td>1.000000</td>\n",
       "    </tr>\n",
       "  </tbody>\n",
       "</table>\n",
       "</div>"
      ],
      "text/plain": [
       "          x         y\n",
       "x  1.000000  0.757512\n",
       "y  0.757512  1.000000"
      ]
     },
     "execution_count": 17,
     "metadata": {},
     "output_type": "execute_result"
    }
   ],
   "source": [
    "# Use pandas\n",
    "df = pd.DataFrame({\n",
    "    'x': x_items,\n",
    "    'y': y_items,\n",
    "})\n",
    "df.corr()"
   ]
  },
  {
   "cell_type": "code",
   "execution_count": 18,
   "id": "1d31eeda-83af-412a-ba93-a044c184bc47",
   "metadata": {},
   "outputs": [
    {
     "data": {
      "text/plain": [
       "<AxesSubplot:>"
      ]
     },
     "execution_count": 18,
     "metadata": {},
     "output_type": "execute_result"
    },
    {
     "data": {
      "image/png": "[encoded data removed]",
      "text/plain": [
       "<Figure size 432x288 with 2 Axes>"
      ]
     },
     "metadata": {
      "needs_background": "light"
     },
     "output_type": "display_data"
    }
   ],
   "source": [
    "# Drawing with heatmap\n",
    "sns.heatmap(df.corr())"
   ]
  },
  {
   "cell_type": "code",
   "execution_count": null,
   "id": "cf4efb3c-6015-4e80-bd46-97476e2c13e6",
   "metadata": {},
   "outputs": [],
   "source": []
  }
 ],
 "metadata": {
  "kernelspec": {
   "display_name": "Python 3 (ipykernel)",
   "language": "python",
   "name": "python3"
  },
  "language_info": {
   "codemirror_mode": {
    "name": "ipython",
    "version": 3
   },
   "file_extension": ".py",
   "mimetype": "text/x-python",
   "name": "python",
   "nbconvert_exporter": "python",
   "pygments_lexer": "ipython3",
   "version": "3.9.12"
  }
 },
 "nbformat": 4,
 "nbformat_minor": 5
}
