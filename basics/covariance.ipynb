{
 "cells": [
  {
   "cell_type": "markdown",
   "id": "1c42e978-0497-448d-9d25-730941a53e8c",
   "metadata": {},
   "source": [
    "## Covariance（共分散）"
   ]
  },
  {
   "cell_type": "code",
   "execution_count": 12,
   "id": "e2fe01d5-7196-4c21-8f96-98a050d5905b",
   "metadata": {},
   "outputs": [],
   "source": [
    "import numpy as np\n",
    "import pandas as pd\n",
    "import matplotlib.pyplot as plt\n",
    "import seaborn as sns\n",
    "%matplotlib inline"
   ]
  },
  {
   "cell_type": "code",
   "execution_count": 13,
   "id": "a1e95419-825c-4888-873e-690229cde29b",
   "metadata": {},
   "outputs": [
    {
     "name": "stderr",
     "output_type": "stream",
     "text": [
      "/opt/anaconda3/lib/python3.9/site-packages/seaborn/_decorators.py:36: FutureWarning: Pass the following variables as keyword args: x, y. From version 0.12, the only valid positional argument will be `data`, and passing other arguments without an explicit keyword will result in an error or misinterpretation.\n",
      "  warnings.warn(\n"
     ]
    },
    {
     "data": {
      "text/plain": [
       "Text(0, 0.5, 'y')"
      ]
     },
     "execution_count": 13,
     "metadata": {},
     "output_type": "execute_result"
    },
    {
     "data": {
      "image/png": "[encoded data removed]",
      "text/plain": [
       "<Figure size 432x288 with 1 Axes>"
      ]
     },
     "metadata": {
      "needs_background": "light"
     },
     "output_type": "display_data"
    }
   ],
   "source": [
    "x_items = np.array(\n",
    "    [14,23,75,93,92,48,28,74]\n",
    ")\n",
    "y_items = np.array(\n",
    "    [23,31,34,68,79,58,36,41]\n",
    ")\n",
    "\n",
    "sns.scatterplot(x_items, y_items)\n",
    "plt.xlabel('x')\n",
    "plt.ylabel('y')"
   ]
  },
  {
   "cell_type": "code",
   "execution_count": 16,
   "id": "6dbe4093-a4f5-429f-9b98-a51fa9853242",
   "metadata": {},
   "outputs": [
    {
     "data": {
      "text/plain": [
       "array([[1007.26785714,  475.60714286],\n",
       "       [ 475.60714286,  391.35714286]])"
      ]
     },
     "execution_count": 16,
     "metadata": {},
     "output_type": "execute_result"
    }
   ],
   "source": [
    "# Calculate covariance\n",
    "\n",
    "# Use numpy\n",
    "np.cov(x_items, y_items)\n",
    "\n",
    "# array([[Unbiased variance of x,  Unbiased covariance of x and y],\n",
    "#       [ Unbiased covariance of x and y,  Unbiased variance of y]])"
   ]
  },
  {
   "cell_type": "code",
   "execution_count": 19,
   "id": "352af4eb-845a-4e4e-bc07-02616e6a28ab",
   "metadata": {},
   "outputs": [
    {
     "data": {
      "text/html": [
       "<div>\n",
       "<style scoped>\n",
       "    .dataframe tbody tr th:only-of-type {\n",
       "        vertical-align: middle;\n",
       "    }\n",
       "\n",
       "    .dataframe tbody tr th {\n",
       "        vertical-align: top;\n",
       "    }\n",
       "\n",
       "    .dataframe thead th {\n",
       "        text-align: right;\n",
       "    }\n",
       "</style>\n",
       "<table border=\"1\" class=\"dataframe\">\n",
       "  <thead>\n",
       "    <tr style=\"text-align: right;\">\n",
       "      <th></th>\n",
       "      <th>x</th>\n",
       "      <th>y</th>\n",
       "    </tr>\n",
       "  </thead>\n",
       "  <tbody>\n",
       "    <tr>\n",
       "      <th>x</th>\n",
       "      <td>1007.267857</td>\n",
       "      <td>475.607143</td>\n",
       "    </tr>\n",
       "    <tr>\n",
       "      <th>y</th>\n",
       "      <td>475.607143</td>\n",
       "      <td>391.357143</td>\n",
       "    </tr>\n",
       "  </tbody>\n",
       "</table>\n",
       "</div>"
      ],
      "text/plain": [
       "             x           y\n",
       "x  1007.267857  475.607143\n",
       "y   475.607143  391.357143"
      ]
     },
     "execution_count": 19,
     "metadata": {},
     "output_type": "execute_result"
    }
   ],
   "source": [
    "# Use pandas\n",
    "df = pd.DataFrame({\n",
    "    'x': x_items,\n",
    "    'y': y_items,\n",
    "})\n",
    "df.cov()"
   ]
  },
  {
   "cell_type": "code",
   "execution_count": 11,
   "id": "1b41a9a9-f7df-451c-a336-7077cbec688b",
   "metadata": {},
   "outputs": [
    {
     "data": {
      "text/plain": [
       "array([[881.359375, 416.15625 ],\n",
       "       [416.15625 , 342.4375  ]])"
      ]
     },
     "execution_count": 11,
     "metadata": {},
     "output_type": "execute_result"
    }
   ],
   "source": [
    "# If you want to check covariance\n",
    "np.cov(x_items, y_items, bias=True)"
   ]
  },
  {
   "cell_type": "code",
   "execution_count": null,
   "id": "4ce34b88-f689-4a30-9c31-05d426d3d4cf",
   "metadata": {},
   "outputs": [],
   "source": []
  }
 ],
 "metadata": {
  "kernelspec": {
   "display_name": "Python 3 (ipykernel)",
   "language": "python",
   "name": "python3"
  },
  "language_info": {
   "codemirror_mode": {
    "name": "ipython",
    "version": 3
   },
   "file_extension": ".py",
   "mimetype": "text/x-python",
   "name": "python",
   "nbconvert_exporter": "python",
   "pygments_lexer": "ipython3",
   "version": "3.9.12"
  }
 },
 "nbformat": 4,
 "nbformat_minor": 5
}
