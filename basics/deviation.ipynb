{
 "cells": [
  {
   "cell_type": "markdown",
   "id": "6e7d63e0-c6f6-4855-ad8d-03bc2a30883d",
   "metadata": {},
   "source": [
    "## Variance （分散）"
   ]
  },
  {
   "cell_type": "code",
   "execution_count": 22,
   "id": "ab104715-451f-442d-8f06-71c6b3668c70",
   "metadata": {},
   "outputs": [],
   "source": [
    "import numpy as np\n",
    "from scipy import stats\n",
    "import pandas as pd\n",
    "\n",
    "items = [24,65,12,35,89,77,55,31]\n",
    "\n",
    "df = pd.DataFrame({'item':items})"
   ]
  },
  {
   "cell_type": "code",
   "execution_count": 23,
   "id": "94f983a7-4045-4481-96c3-8f0c1e570317",
   "metadata": {},
   "outputs": [
    {
     "name": "stdout",
     "output_type": "stream",
     "text": [
      "648.5\n",
      "741.1428571428571\n",
      "741.1428571428571\n"
     ]
    }
   ],
   "source": [
    "# numpyは通常の分散\n",
    "variance_np = np.var(items)\n",
    "print(variance_np)\n",
    "\n",
    "# scipyの不偏分散\n",
    "variance_scipy = stats.tvar(items)\n",
    "print(variance_scipy)\n",
    "\n",
    "# pandasの不偏分散\n",
    "variance_pd = df['item'].var()\n",
    "print(variance_pd)"
   ]
  },
  {
   "cell_type": "markdown",
   "id": "39212f53-e5a1-4517-b946-1215f9caa14c",
   "metadata": {},
   "source": [
    "## Standard devision: SD （標準偏差）"
   ]
  },
  {
   "cell_type": "code",
   "execution_count": 24,
   "id": "9a66f88e-fb35-450d-a788-3a4c0e643026",
   "metadata": {},
   "outputs": [
    {
     "name": "stdout",
     "output_type": "stream",
     "text": [
      "25.465663156493687\n",
      "27.223939045311887\n",
      "27.223939045311887\n"
     ]
    }
   ],
   "source": [
    "# numpyは通常のSD\n",
    "std_np = np.std(items)\n",
    "print(std_np)\n",
    "\n",
    "# scipyの不偏分散を用いたSD\n",
    "std_scipy = stats.tstd(items)\n",
    "print(std_scipy)\n",
    "\n",
    "# pandasの不偏分散を用いたSD\n",
    "variance_pd = df['item'].std()\n",
    "print(variance_pd)"
   ]
  },
  {
   "cell_type": "code",
   "execution_count": null,
   "id": "3ae1673b-0400-4d1e-9463-5510706a1c3f",
   "metadata": {},
   "outputs": [],
   "source": []
  }
 ],
 "metadata": {
  "kernelspec": {
   "display_name": "Python 3 (ipykernel)",
   "language": "python",
   "name": "python3"
  },
  "language_info": {
   "codemirror_mode": {
    "name": "ipython",
    "version": 3
   },
   "file_extension": ".py",
   "mimetype": "text/x-python",
   "name": "python",
   "nbconvert_exporter": "python",
   "pygments_lexer": "ipython3",
   "version": "3.9.12"
  }
 },
 "nbformat": 4,
 "nbformat_minor": 5
}
