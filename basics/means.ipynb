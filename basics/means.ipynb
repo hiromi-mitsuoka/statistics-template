{
 "cells": [
  {
   "cell_type": "markdown",
   "id": "76c0fdc5-836b-44ad-aa2e-8955098e1893",
   "metadata": {},
   "source": [
    "## Arithmetic mean (算術平均)"
   ]
  },
  {
   "cell_type": "code",
   "execution_count": 3,
   "id": "19ab45a7-77c5-4f36-97d6-1e5822ccd426",
   "metadata": {},
   "outputs": [
    {
     "data": {
      "text/plain": [
       "300.0"
      ]
     },
     "execution_count": 3,
     "metadata": {},
     "output_type": "execute_result"
    }
   ],
   "source": [
    "import numpy as np\n",
    "items = [100, 200, 300, 400, 500]\n",
    "np.mean(items)"
   ]
  },
  {
   "cell_type": "markdown",
   "id": "fa2d4bf4-33c4-446e-b10b-4320ac6fc823",
   "metadata": {},
   "source": [
    "## Geometric mean （幾何平均）"
   ]
  },
  {
   "cell_type": "code",
   "execution_count": 5,
   "id": "a86b9b23-c455-463c-a1d1-d7de414b363f",
   "metadata": {},
   "outputs": [
    {
     "name": "stdout",
     "output_type": "stream",
     "text": [
      "1.4888055529538275\n"
     ]
    }
   ],
   "source": [
    "from scipy import stats\n",
    "growth = [1.1, 1.5, 2.0]\n",
    "growth_mean = stats.gmean(growth)\n",
    "print(growth_mean)"
   ]
  },
  {
   "cell_type": "markdown",
   "id": "76104deb-26a1-4a79-9389-5dfe85653758",
   "metadata": {},
   "source": [
    "## Harmonic mean （調和平均）"
   ]
  },
  {
   "cell_type": "code",
   "execution_count": 7,
   "id": "10894e0c-f09a-404b-822d-9ee689c2335c",
   "metadata": {},
   "outputs": [
    {
     "name": "stdout",
     "output_type": "stream",
     "text": [
      "36.0\n"
     ]
    }
   ],
   "source": [
    "from scipy import stats\n",
    "velocities = [30, 45]\n",
    "velocities_mean = stats.hmean(velocities)\n",
    "print(velocities_mean)"
   ]
  },
  {
   "cell_type": "code",
   "execution_count": null,
   "id": "99a8a17f-4ec4-4758-ab28-73cd7a881c21",
   "metadata": {},
   "outputs": [],
   "source": []
  }
 ],
 "metadata": {
  "kernelspec": {
   "display_name": "Python 3 (ipykernel)",
   "language": "python",
   "name": "python3"
  },
  "language_info": {
   "codemirror_mode": {
    "name": "ipython",
    "version": 3
   },
   "file_extension": ".py",
   "mimetype": "text/x-python",
   "name": "python",
   "nbconvert_exporter": "python",
   "pygments_lexer": "ipython3",
   "version": "3.9.12"
  }
 },
 "nbformat": 4,
 "nbformat_minor": 5
}
