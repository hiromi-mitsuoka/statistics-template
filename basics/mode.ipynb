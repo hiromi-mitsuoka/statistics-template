{
 "cells": [
  {
   "cell_type": "markdown",
   "id": "16ac57c2-7f82-4e17-81eb-5a2c94db8d9e",
   "metadata": {},
   "source": [
    "## mode （最頻値）"
   ]
  },
  {
   "cell_type": "code",
   "execution_count": 5,
   "id": "60b0d5ce-c235-4362-8756-2cfce63df294",
   "metadata": {},
   "outputs": [
    {
     "name": "stdout",
     "output_type": "stream",
     "text": [
      "[3]\n",
      "[2]\n"
     ]
    }
   ],
   "source": [
    "from scipy import stats\n",
    "\n",
    "mode, count = stats.mode(\n",
    "    [3,6,3,8,5,9,1,2,7,5,9,8]\n",
    ")\n",
    "# 最頻値が複数ある場合は，最も小さい値を返す\n",
    "print(mode)\n",
    "print(count)"
   ]
  },
  {
   "cell_type": "code",
   "execution_count": 8,
   "id": "4be1958a-c1f3-4480-a99d-9bb45901295f",
   "metadata": {},
   "outputs": [
    {
     "name": "stdout",
     "output_type": "stream",
     "text": [
      "[[1 3 9 2]]\n",
      "[[2 1 2 1]]\n"
     ]
    }
   ],
   "source": [
    "import numpy as np\n",
    "from scipy import stats\n",
    "\n",
    "array = np.array([\n",
    "    [1,3,6,8],\n",
    "    [3,4,3,5],\n",
    "    [6,5,9,6],\n",
    "    [1,9,9,2],\n",
    "])\n",
    "# 縦軸で最頻値を計算する\n",
    "mode, count = stats.mode(array, axis=0)\n",
    "print(mode)\n",
    "print(count)"
   ]
  },
  {
   "cell_type": "code",
   "execution_count": 10,
   "id": "68e9769c-f5f1-4d36-b708-9c02d745a2e7",
   "metadata": {},
   "outputs": [
    {
     "name": "stdout",
     "output_type": "stream",
     "text": [
      "[[1]\n",
      " [3]\n",
      " [6]\n",
      " [9]]\n",
      "[[1]\n",
      " [2]\n",
      " [2]\n",
      " [2]]\n"
     ]
    }
   ],
   "source": [
    "# 横軸で最頻値を計算する\n",
    "mode, count = stats.mode(array, axis=1)\n",
    "print(mode)\n",
    "print(count)"
   ]
  },
  {
   "cell_type": "code",
   "execution_count": null,
   "id": "146f3075-2f12-40a5-92be-0e1fce3cc441",
   "metadata": {},
   "outputs": [],
   "source": []
  }
 ],
 "metadata": {
  "kernelspec": {
   "display_name": "Python 3 (ipykernel)",
   "language": "python",
   "name": "python3"
  },
  "language_info": {
   "codemirror_mode": {
    "name": "ipython",
    "version": 3
   },
   "file_extension": ".py",
   "mimetype": "text/x-python",
   "name": "python",
   "nbconvert_exporter": "python",
   "pygments_lexer": "ipython3",
   "version": "3.9.12"
  }
 },
 "nbformat": 4,
 "nbformat_minor": 5
}
