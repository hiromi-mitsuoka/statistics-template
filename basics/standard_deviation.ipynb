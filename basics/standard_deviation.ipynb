{
 "cells": [
  {
   "cell_type": "markdown",
   "id": "f6e0e179-32a6-4864-b9b1-3d76026e6a41",
   "metadata": {},
   "source": [
    "## Standard devision: SD （標準偏差）"
   ]
  },
  {
   "cell_type": "code",
   "execution_count": 3,
   "id": "ab104715-451f-442d-8f06-71c6b3668c70",
   "metadata": {},
   "outputs": [],
   "source": [
    "import numpy as np\n",
    "from scipy import stats\n",
    "import pandas as pd\n",
    "\n",
    "items = [24,65,12,35,89,77,55,31]\n",
    "\n",
    "df = pd.DataFrame({'item':items})"
   ]
  },
  {
   "cell_type": "code",
   "execution_count": 4,
   "id": "94f983a7-4045-4481-96c3-8f0c1e570317",
   "metadata": {},
   "outputs": [
    {
     "name": "stdout",
     "output_type": "stream",
     "text": [
      "25.465663156493687\n",
      "27.223939045311887\n",
      "27.223939045311887\n"
     ]
    }
   ],
   "source": [
    "# numpyは通常のSD\n",
    "std_np = np.std(items)\n",
    "print(std_np)\n",
    "\n",
    "# scipyの不偏分散を用いたSD\n",
    "std_scipy = stats.tstd(items)\n",
    "print(std_scipy)\n",
    "\n",
    "# pandasの不偏分散を用いたSD\n",
    "variance_pd = df['item'].std()\n",
    "print(variance_pd)"
   ]
  },
  {
   "cell_type": "code",
   "execution_count": null,
   "id": "10baf25f-3324-4267-8509-0ff279d80f80",
   "metadata": {},
   "outputs": [],
   "source": []
  }
 ],
 "metadata": {
  "kernelspec": {
   "display_name": "Python 3 (ipykernel)",
   "language": "python",
   "name": "python3"
  },
  "language_info": {
   "codemirror_mode": {
    "name": "ipython",
    "version": 3
   },
   "file_extension": ".py",
   "mimetype": "text/x-python",
   "name": "python",
   "nbconvert_exporter": "python",
   "pygments_lexer": "ipython3",
   "version": "3.9.12"
  }
 },
 "nbformat": 4,
 "nbformat_minor": 5
}
