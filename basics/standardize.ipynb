{
 "cells": [
  {
   "cell_type": "markdown",
   "id": "2a63690e-757b-41b3-9226-c0e606ed32d7",
   "metadata": {},
   "source": [
    "## 標準化（平均0, 標準偏差1にする）"
   ]
  },
  {
   "cell_type": "code",
   "execution_count": 4,
   "id": "f165d25a-a9fa-47a6-bdca-5f7dd13ac876",
   "metadata": {},
   "outputs": [],
   "source": [
    "import numpy as np\n",
    "items = [21,9,0,54,78,69,18,94,38,76]"
   ]
  },
  {
   "cell_type": "code",
   "execution_count": 5,
   "id": "8a0710e5-77f1-4add-9328-5625ec11dcfc",
   "metadata": {},
   "outputs": [],
   "source": [
    "mean = np.mean(items)\n",
    "std = np.std(items)\n",
    "\n",
    "# 標準化\n",
    "z = (items - mean) / std"
   ]
  },
  {
   "cell_type": "code",
   "execution_count": 8,
   "id": "646aea02-4164-4d26-93fc-c50c1fe8a0c9",
   "metadata": {},
   "outputs": [
    {
     "name": "stdout",
     "output_type": "stream",
     "text": [
      "standardized items(z): [-0.78989564 -1.17365061 -1.46146683  0.26543052  1.03294045  0.74512423\n",
      " -0.88583438  1.54461374 -0.24624277  0.96898129]\n",
      "mean: -0.00\n",
      "std: 0.9999999999999999\n"
     ]
    }
   ],
   "source": [
    "print('standardized items(z): {}'.format(z))\n",
    "print('mean: {:.2f}'.format(np.mean(z)))\n",
    "print('std: {}'.format(np.std(z)))"
   ]
  },
  {
   "cell_type": "code",
   "execution_count": null,
   "id": "e602a5e8-04be-4334-bb37-92cde6d7538e",
   "metadata": {},
   "outputs": [],
   "source": []
  },
  {
   "cell_type": "code",
   "execution_count": 10,
   "id": "8e352b8b-8934-4f3d-b4ca-9777d37ab0a9",
   "metadata": {},
   "outputs": [],
   "source": [
    "# sklearnを利用\n",
    "from sklearn.preprocessing import StandardScaler"
   ]
  },
  {
   "cell_type": "code",
   "execution_count": 19,
   "id": "4ae0b781-3666-4ae3-a6c1-5f7b6aede9ca",
   "metadata": {},
   "outputs": [
    {
     "name": "stdout",
     "output_type": "stream",
     "text": [
      "items_arr shape: (10,)\n",
      "[21  9  0 54 78 69 18 94 38 76]\n"
     ]
    }
   ],
   "source": [
    "items_arr = np.array(items)\n",
    "# shape: https://deepage.net/features/numpy-shape.html\n",
    "print('items_arr shape: {}'.format(items_arr.shape))\n",
    "print(items_arr)"
   ]
  },
  {
   "cell_type": "code",
   "execution_count": 18,
   "id": "d8e4da1d-2ee6-45b6-970d-66c2523ec984",
   "metadata": {},
   "outputs": [
    {
     "name": "stdout",
     "output_type": "stream",
     "text": [
      "reshaped items_arr shape: (10, 1)\n",
      "[[21]\n",
      " [ 9]\n",
      " [ 0]\n",
      " [54]\n",
      " [78]\n",
      " [69]\n",
      " [18]\n",
      " [94]\n",
      " [38]\n",
      " [76]]\n"
     ]
    }
   ],
   "source": [
    "# expand_dims(): https://note.nkmk.me/python-numpy-newaxis/\n",
    "expanded_items = np.expand_dims(items_arr, axis=-1)\n",
    "print('reshaped items_arr shape: {}'.format(expanded_items.shape))\n",
    "print(expanded_items)"
   ]
  },
  {
   "cell_type": "code",
   "execution_count": 20,
   "id": "ddaa6f54-d568-479c-adfc-299848a42310",
   "metadata": {},
   "outputs": [
    {
     "name": "stdout",
     "output_type": "stream",
     "text": [
      "[[-0.78989564]\n",
      " [-1.17365061]\n",
      " [-1.46146683]\n",
      " [ 0.26543052]\n",
      " [ 1.03294045]\n",
      " [ 0.74512423]\n",
      " [-0.88583438]\n",
      " [ 1.54461374]\n",
      " [-0.24624277]\n",
      " [ 0.96898129]]\n"
     ]
    }
   ],
   "source": [
    "# インスタンス作成\n",
    "scaler = StandardScaler()\n",
    "# fit_transformの引数は，rank2のndarrayの必要あり\n",
    "scaled = scaler.fit_transform(expanded_items)\n",
    "print(scaled)"
   ]
  },
  {
   "cell_type": "code",
   "execution_count": null,
   "id": "63e896bf-274f-465c-8394-ec59d755a63b",
   "metadata": {},
   "outputs": [],
   "source": []
  }
 ],
 "metadata": {
  "kernelspec": {
   "display_name": "Python 3 (ipykernel)",
   "language": "python",
   "name": "python3"
  },
  "language_info": {
   "codemirror_mode": {
    "name": "ipython",
    "version": 3
   },
   "file_extension": ".py",
   "mimetype": "text/x-python",
   "name": "python",
   "nbconvert_exporter": "python",
   "pygments_lexer": "ipython3",
   "version": "3.9.12"
  }
 },
 "nbformat": 4,
 "nbformat_minor": 5
}
