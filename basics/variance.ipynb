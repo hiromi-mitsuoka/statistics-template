{
 "cells": [
  {
   "cell_type": "markdown",
   "id": "b69a80f5-f2b0-47ac-bf4e-fe251c2c1c8a",
   "metadata": {},
   "source": [
    "## Variance （分散）"
   ]
  },
  {
   "cell_type": "code",
   "execution_count": 3,
   "id": "6eb01be6-1d4e-4fe7-a6c1-8d29521d3d5b",
   "metadata": {},
   "outputs": [],
   "source": [
    "import numpy as np\n",
    "from scipy import stats\n",
    "import pandas as pd\n",
    "\n",
    "items = [24,65,12,35,89,77,55,31]\n",
    "\n",
    "df = pd.DataFrame({'item':items})"
   ]
  },
  {
   "cell_type": "code",
   "execution_count": 4,
   "id": "60f1de25-5d2e-4a47-b917-f3b40377f0c0",
   "metadata": {},
   "outputs": [
    {
     "name": "stdout",
     "output_type": "stream",
     "text": [
      "648.5\n",
      "741.1428571428571\n",
      "741.1428571428571\n"
     ]
    }
   ],
   "source": [
    "# numpyは通常の分散\n",
    "variance_np = np.var(items)\n",
    "print(variance_np)\n",
    "\n",
    "# scipyの不偏分散\n",
    "variance_scipy = stats.tvar(items)\n",
    "print(variance_scipy)\n",
    "\n",
    "# pandasの不偏分散\n",
    "variance_pd = df['item'].var()\n",
    "print(variance_pd)"
   ]
  },
  {
   "cell_type": "code",
   "execution_count": null,
   "id": "43104c97-92d5-4876-b4f7-e0c4dca0026d",
   "metadata": {},
   "outputs": [],
   "source": []
  }
 ],
 "metadata": {
  "kernelspec": {
   "display_name": "Python 3 (ipykernel)",
   "language": "python",
   "name": "python3"
  },
  "language_info": {
   "codemirror_mode": {
    "name": "ipython",
    "version": 3
   },
   "file_extension": ".py",
   "mimetype": "text/x-python",
   "name": "python",
   "nbconvert_exporter": "python",
   "pygments_lexer": "ipython3",
   "version": "3.9.12"
  }
 },
 "nbformat": 4,
 "nbformat_minor": 5
}
