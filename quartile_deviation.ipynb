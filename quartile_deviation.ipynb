{
 "cells": [
  {
   "cell_type": "code",
   "execution_count": 1,
   "id": "54be82fc-53f5-497f-917c-a86aa404ec51",
   "metadata": {},
   "outputs": [],
   "source": [
    "from scipy import stats\n",
    "import matplotlib.pyplot as plt\n",
    "%matplotlib inline\n",
    "\n",
    "data = [44,67,21,87,51,15,89,57,32,67,55,77]"
   ]
  },
  {
   "cell_type": "markdown",
   "id": "709c27c3-018e-47c7-810d-bd18d53ee970",
   "metadata": {},
   "source": [
    "## Interquartile range: IQR （四分位範囲）"
   ]
  },
  {
   "cell_type": "code",
   "execution_count": 3,
   "id": "ab971107-d4a9-4dc6-bbf1-f11d99981d9f",
   "metadata": {},
   "outputs": [
    {
     "name": "stdout",
     "output_type": "stream",
     "text": [
      "IQR: 28.5\n"
     ]
    }
   ],
   "source": [
    "iqr = stats.iqr(data)\n",
    "print('IQR: {}'.format(iqr))"
   ]
  },
  {
   "cell_type": "markdown",
   "id": "bb2eee9a-4709-42ad-be8f-2ba11fb7a9ae",
   "metadata": {},
   "source": [
    "## Quartile deviation: QD （四分位偏差）"
   ]
  },
  {
   "cell_type": "code",
   "execution_count": 4,
   "id": "f9466684-698b-4dae-86b3-d91475e524ce",
   "metadata": {},
   "outputs": [
    {
     "name": "stdout",
     "output_type": "stream",
     "text": [
      "QD: 14.25\n"
     ]
    }
   ],
   "source": [
    "qd = iqr / 2\n",
    "print('QD: {}'.format(qd))"
   ]
  },
  {
   "cell_type": "markdown",
   "id": "10be2d5b-fc28-40e8-9175-1904e38e2f1c",
   "metadata": {},
   "source": [
    "## Boxplot"
   ]
  },
  {
   "cell_type": "code",
   "execution_count": 5,
   "id": "c8bdcae7-cc05-48c3-87ba-d9249bd52612",
   "metadata": {},
   "outputs": [
    {
     "data": {
      "image/png": "[encoded data removed]",
      "text/plain": [
       "<Figure size 432x288 with 1 Axes>"
      ]
     },
     "metadata": {
      "needs_background": "light"
     },
     "output_type": "display_data"
    }
   ],
   "source": [
    "plt.boxplot(data)\n",
    "plt.show()"
   ]
  },
  {
   "cell_type": "code",
   "execution_count": null,
   "id": "5d59a613-3979-42c1-802f-18f21aa802e2",
   "metadata": {},
   "outputs": [],
   "source": []
  }
 ],
 "metadata": {
  "kernelspec": {
   "display_name": "Python 3 (ipykernel)",
   "language": "python",
   "name": "python3"
  },
  "language_info": {
   "codemirror_mode": {
    "name": "ipython",
    "version": 3
   },
   "file_extension": ".py",
   "mimetype": "text/x-python",
   "name": "python",
   "nbconvert_exporter": "python",
   "pygments_lexer": "ipython3",
   "version": "3.9.12"
  }
 },
 "nbformat": 4,
 "nbformat_minor": 5
}
